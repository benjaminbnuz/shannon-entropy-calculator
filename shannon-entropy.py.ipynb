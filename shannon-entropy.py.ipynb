{
 "metadata": {
  "language_info": {
   "codemirror_mode": {
    "name": "ipython",
    "version": 3
   },
   "file_extension": ".py",
   "mimetype": "text/x-python",
   "name": "python",
   "nbconvert_exporter": "python",
   "pygments_lexer": "ipython3",
   "version": "3.8.1-final"
  },
  "orig_nbformat": 2,
  "kernelspec": {
   "name": "python3",
   "display_name": "Python 3"
  }
 },
 "nbformat": 4,
 "nbformat_minor": 2,
 "cells": [
  {
   "cell_type": "code",
   "execution_count": null,
   "metadata": {},
   "outputs": [],
   "source": [
    "import csv\n",
    "import math\n",
    "def shannon_entropy(data):\n",
    "    stack = {}\n",
    "    symbol_list = {}\n",
    "\n",
    "    for character in data:\n",
    "        stack[character] = round(data.count(character) / len(data), 5)\n",
    "        symbol_list[character] = data.count(character)\n",
    "    # print('\\nSymbol-occurrence frequencies:\\n')\n",
    "    #for symbol in stack:\n",
    "        # print(\"{0} --> {1} -- {2}\".format(symbol, stack[symbol], symbol_list[symbol]))\n",
    "    return symbol_frequency(stack)\n",
    "\n",
    "\n",
    "def symbol_frequency(symbol_set):\n",
    "    bit_set = [round(symbol_set[symbol] * math.log2(symbol_set[symbol]), 5) for symbol in symbol_set]\n",
    "    entropy = -1 * (round(sum(bit_set), 5))\n",
    "    return entropy\n",
    "\n",
    "\n"
   ]
  },
  {
   "cell_type": "code",
   "execution_count": null,
   "metadata": {
    "tags": [
     "outputPrepend"
    ]
   },
   "outputs": [],
   "source": [
    "import csv\n",
    "subdomain=[]\n",
    "fo = open(r\"out.txt\", \"w\")\n",
    "with open(r\"in.csv\", newline='') as csv_file:\n",
    "    reader = csv.DictReader(csv_file)\n",
    "    for row in reader:\n",
    "        subdomain.append(row['input'])\n",
    "\n",
    "# print(subdomain)"
   ]
  },
  {
   "cell_type": "code",
   "execution_count": null,
   "metadata": {
    "tags": []
   },
   "outputs": [],
   "source": [
    "if __name__ == '__main__':\n",
    "    #m = input('\\nEnter the message: ')\n",
    "    for m in subdomain:\n",
    "        bits = shannon_entropy(m)\n",
    "        #print('\\nH(X) = {0} bits. Rounded to {1} bits/symbol, '.format(bits, round(bits)))\n",
    "        #print('it will take {0} bits to optimally encode \"{1}\"'.format(len(m) * round(bits), m))\n",
    "        #print('\\nMetric entropy: %.5f' % (bits / len(m)))\n",
    "        bits=str(bits)\n",
    "        fo.write( bits )\n",
    "        fo.write(\"\\n\")\n",
    "        #print(bits)\n",
    "    print(\"Finished\")\n",
    "\n"
   ]
  },
  {
   "cell_type": "code",
   "execution_count": null,
   "metadata": {},
   "outputs": [],
   "source": []
  }
 ]
}